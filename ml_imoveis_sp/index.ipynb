{
 "cells": [
  {
   "cell_type": "code",
   "execution_count": 1,
   "metadata": {},
   "outputs": [
    {
     "data": {
      "text/plain": [
       "True"
      ]
     },
     "execution_count": 1,
     "metadata": {},
     "output_type": "execute_result"
    }
   ],
   "source": [
    "import pandas as pd\n",
    "import plotly.express as px\n",
    "import plotly.graph_objects as go\n",
    "import matplotlib.pyplot as plt\n",
    "import seaborn as sns\n",
    "import numpy as np\n",
    "import os\n",
    "from dotenv import load_dotenv\n",
    "\n",
    "load_dotenv()"
   ]
  },
  {
   "cell_type": "code",
   "execution_count": 2,
   "metadata": {},
   "outputs": [],
   "source": [
    "px.set_mapbox_access_token(open('mapbox_token').read())"
   ]
  },
  {
   "cell_type": "code",
   "execution_count": 3,
   "metadata": {},
   "outputs": [],
   "source": [
    "df_data = pd.read_csv(\"sao-paulo-properties-april-2019.csv\")\n",
    "df_rent = df_data[df_data[\"Negotiation Type\"] == \"rent\"]"
   ]
  },
  {
   "cell_type": "code",
   "execution_count": null,
   "metadata": {},
   "outputs": [],
   "source": [
    "#documentação plotly\n",
    "fig = px.scatter_mapbox(df_rent, lat=\"Latitude\", lon=\"Longitude\", color=\"Price\", size=\"Size\",\n",
    "                        color_continuous_scale=px.colors.cyclical.IceFire, size_max=15, zoom=10, opacity=0.4)\n",
    "\n",
    "\n",
    "#alteramos a escala\n",
    "fig.update_coloraxes(colorscale=[[0, 'rgb(166,206,227, 0.5)'],\n",
    "                                 [0.02, 'rgb(31,120,180,0.5)'],\n",
    "                                 [0.05, 'rgb(178,223,138,0.5)'],\n",
    "                                 [0.10, 'rgb(51,160,44,0.5)'],\n",
    "                                 [0.15, 'rgb(251,154,153,0.5)'],\n",
    "                                 [1, 'rgb(227,26,28,0.5)']\n",
    "                                 ],\n",
    "                     )\n",
    "\n",
    "fig.update_layout(height=800, mapbox=dict(\n",
    "    center=go.layout.mapbox.Center(lat=-23.543138, lon=-46.69486)))\n",
    "fig.show()"
   ]
  }
 ],
 "metadata": {
  "kernelspec": {
   "display_name": ".venv",
   "language": "python",
   "name": "python3"
  },
  "language_info": {
   "codemirror_mode": {
    "name": "ipython",
    "version": 3
   },
   "file_extension": ".py",
   "mimetype": "text/x-python",
   "name": "python",
   "nbconvert_exporter": "python",
   "pygments_lexer": "ipython3",
   "version": "3.11.4"
  },
  "orig_nbformat": 4
 },
 "nbformat": 4,
 "nbformat_minor": 2
}
